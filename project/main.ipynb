{
 "cells": [
  {
   "cell_type": "code",
   "execution_count": null,
   "outputs": [],
   "source": [],
   "metadata": {
    "collapsed": false,
    "pycharm": {
     "name": "#%%\n"
    }
   }
  },
  {
   "cell_type": "markdown",
   "source": [
    "# Final Report - Data Science\n",
    "## Bachelor in Computer Science / PUCPR\n",
    "\n",
    "Professor Jean Paul Barddal\n",
    "\n",
    "`Bruno Ribeiro Braga Silva Freire` - `brunorbsf@gmail.com`\n",
    "\n",
    "`Place your name here` - `and your email here`\n",
    "\n",
    "`Place your name here` - `and your email here`\n",
    "\n",
    "`Place your name here` - `and your email here`\n",
    "\n",
    "`Place your name here` - `and your email here`\n",
    "\n",
    "`And the year here`"
   ],
   "metadata": {
    "collapsed": false
   }
  },
  {
   "cell_type": "markdown",
   "source": [
    "# Import the libs you need"
   ],
   "metadata": {
    "collapsed": false
   }
  },
  {
   "cell_type": "code",
   "execution_count": null,
   "outputs": [],
   "source": [
    "# Import all packages you need here\n",
    "import pandas as pd\n",
    "import numpy as np\n",
    "# etc"
   ],
   "metadata": {
    "collapsed": false,
    "pycharm": {
     "name": "#%%\n"
    }
   }
  },
  {
   "cell_type": "markdown",
   "source": [
    "# Loading your data"
   ],
   "metadata": {
    "collapsed": false
   }
  },
  {
   "cell_type": "markdown",
   "source": [
    "Below, load the data using pandas and make all the necessary data cleansing so that all data types are correct for posterior analysis."
   ],
   "metadata": {
    "collapsed": false
   }
  },
  {
   "cell_type": "code",
   "execution_count": null,
   "outputs": [],
   "source": [
    "# load your data here"
   ],
   "metadata": {
    "collapsed": false,
    "pycharm": {
     "name": "#%%\n"
    }
   }
  },
  {
   "cell_type": "code",
   "execution_count": null,
   "outputs": [],
   "source": [
    "# clean and treat the data here"
   ],
   "metadata": {
    "collapsed": false,
    "pycharm": {
     "name": "#%%\n"
    }
   }
  },
  {
   "cell_type": "code",
   "execution_count": null,
   "outputs": [],
   "source": [
    "# use as many code and text cells you wish"
   ],
   "metadata": {
    "collapsed": false,
    "pycharm": {
     "name": "#%%\n"
    }
   }
  },
  {
   "cell_type": "markdown",
   "source": [
    "# Univariate data analysis"
   ],
   "metadata": {
    "collapsed": false
   }
  },
  {
   "cell_type": "markdown",
   "source": [
    "In this section, you should perform univariate data analysis on at least 20 variables.\n",
    "\n",
    "In the end, you should describe the main variables that are of your interest, and these should be accounted for in the next sections of the report.\n",
    "The definition of each variable chosen should be clarified, so arbitrary selections are **not** accepted at this point.\n",
    "\n",
    "For each variable plotted, make sure you determine the following:\n",
    "1. The distribution of the data (gaussian, binomial, exponential, etc)\n",
    "2. Skew\n",
    "3. Kurtosis\n",
    "4. Mean, standard deviation, and what they stand for in the context of the dataset\n",
    "\n",
    "Regardless of the type of the variable being analyzed, make sure you plot it correctly. For instance, make sure scatterplots are not used for categorical data and so forth."
   ],
   "metadata": {
    "collapsed": false
   }
  },
  {
   "cell_type": "code",
   "execution_count": null,
   "outputs": [],
   "source": [
    "# place as many cells to plot the visualizations,\n",
    "# as well as to describe the main findings"
   ],
   "metadata": {
    "collapsed": false,
    "pycharm": {
     "name": "#%%\n"
    }
   }
  },
  {
   "cell_type": "code",
   "execution_count": null,
   "outputs": [],
   "source": [
    "# if you realize you need to further clean your data here, there is no problem,\n",
    "# yet, make sure you are describing the entire process and the rationale\n",
    "# behind your choices here"
   ],
   "metadata": {
    "collapsed": false,
    "pycharm": {
     "name": "#%%\n"
    }
   }
  },
  {
   "cell_type": "markdown",
   "source": [
    "# Multivariate data analysis"
   ],
   "metadata": {
    "collapsed": false
   }
  },
  {
   "cell_type": "markdown",
   "source": [
    "In this section, you should plot at least 8 multivariate visualizations. The key here is to investigate underlying correlations and behaviors in the dataset.\n",
    "Naturally, as visualizations are being created, we should end up with obvious results, yet, you should find at least **TWO** non-obvious behavior in data.\n",
    "\n",
    "Please follow these steps for creating your visualizations:\n",
    "1. State an hypothesis. The key here is to explain why you are choosing those specific variables together and what you are expecting to find.\n",
    "2. Determine what kind of visualization is the most suited.\n",
    "3. Report the findings and whether they corroborate or not the aforestated hypothesis.\n",
    "\n",
    "\n",
    "### Hints\n",
    "\n",
    "In this section, make sure you go beyond naive explorations. For instance, try PCA, t-SNE, and even other techniques we have not worked with during the lectures. The key here is to start to develop a critical mindset towards data analysis and our own work.\n",
    "\n",
    "### Important\n",
    "\n",
    "It is strictly forbidden to create multivariate visualizations using variables that were not used in the previous section (univariate analysis)."
   ],
   "metadata": {
    "collapsed": false
   }
  },
  {
   "cell_type": "code",
   "execution_count": null,
   "outputs": [],
   "source": [
    "# again, feel free to place as many cells to plot the visualizations,\n",
    "# as well as describe to the main findings"
   ],
   "metadata": {
    "collapsed": false,
    "pycharm": {
     "name": "#%%\n"
    }
   }
  },
  {
   "cell_type": "markdown",
   "source": [
    "# Final Plots"
   ],
   "metadata": {
    "collapsed": false
   }
  },
  {
   "cell_type": "markdown",
   "source": [
    "In this section, you need to enhance 3 multivariate visualizations that were presented in the previous section of the report.\n",
    "The key here is to enhance these visualizations with the goal of presenting them for an audience that is not familiar with the dataset used or with data analysis.\n",
    "**Therefore, make sure that its size, colors, textures, etc, are appropriate are convey the right information to the audience.**\n",
    "\n",
    "For your final plots, make sure you follow these steps:\n",
    "1. Present the plot\n",
    "2. Provide a description of the visualization, including the main findings that we can extract from it\n",
    "\n",
    "\n",
    "**Hint: take a look at the checklist also made available based on the work of Evergreen.**"
   ],
   "metadata": {
    "collapsed": false
   }
  },
  {
   "cell_type": "code",
   "execution_count": null,
   "outputs": [],
   "source": [
    "# your code goes here"
   ],
   "metadata": {
    "collapsed": false,
    "pycharm": {
     "name": "#%%\n"
    }
   }
  },
  {
   "cell_type": "markdown",
   "source": [
    "# Digest"
   ],
   "metadata": {
    "collapsed": false
   }
  },
  {
   "cell_type": "markdown",
   "source": [
    "In this section you should write down all the main findings of this exploratory data analysis. Furthermore, you should provide a reflection about your own work and effort during the module, highlighting what you believe you have done well and what you should have done differently. This digest should have at least 2500 characters (no spaces)."
   ],
   "metadata": {
    "collapsed": false
   }
  },
  {
   "cell_type": "markdown",
   "source": [
    "```\n",
    "Add your text here.\n",
    "```"
   ],
   "metadata": {
    "collapsed": false
   }
  },
  {
   "cell_type": "markdown",
   "source": [
    "# Machine Learning\n",
    "\n",
    "In this section, you should test different machine learning approaches to **build** and **evaluate** your model.\n",
    "\n",
    "**IMPORTANT: DO NOT FORGET TO REPORT YOUR PREDICTIONS FOR THE TEST DATA. YOU SHOULD BUILD AND EXPORT A FILE ACCORDING TO THE PROJECT DESCRIPTION WITH THE DEFAULTING PROBABILITIES!**"
   ],
   "metadata": {
    "collapsed": false
   }
  },
  {
   "cell_type": "code",
   "execution_count": null,
   "outputs": [],
   "source": [
    "# use as many cells as you wish."
   ],
   "metadata": {
    "collapsed": false,
    "pycharm": {
     "name": "#%%\n"
    }
   }
  },
  {
   "cell_type": "code",
   "execution_count": null,
   "outputs": [],
   "source": [
    "# but the sure that all cells are commented adequately!"
   ],
   "metadata": {
    "collapsed": false,
    "pycharm": {
     "name": "#%%\n"
    }
   }
  },
  {
   "cell_type": "markdown",
   "source": [
    "# Future work"
   ],
   "metadata": {
    "collapsed": false
   }
  },
  {
   "cell_type": "markdown",
   "source": [
    "In this cell, please provide at least 3 different ideas that you would like to pursuit within this dataset. That may include, for example, the use of machine learning techniques towards a goal, or analyzing variables that you had no time to during this work.\n",
    "Please provide **details** on how you would tackle this problem and provide specifics on which techniques should be used for such purposes.\n",
    "This section should contain, at least, 2500 characters (no spaces)."
   ],
   "metadata": {
    "collapsed": false
   }
  },
  {
   "cell_type": "markdown",
   "source": [
    "```\n",
    "Add your text here.\n",
    "```\n"
   ],
   "metadata": {
    "collapsed": false
   }
  },
  {
   "cell_type": "markdown",
   "source": [
    "# Final Steps\n"
   ],
   "metadata": {
    "collapsed": false
   }
  },
  {
   "cell_type": "markdown",
   "source": [
    "1. Save this report as a jupyter notebook (`.ipynb`)\n",
    "2. Save a copy of this report as a PDF file (`.pdf`)\n",
    "3. Copy the dataset\n",
    "4. Zip it all together within a single file (`<your_name>.zip`)\n",
    "5. Send it over using Blackboard."
   ],
   "metadata": {
    "collapsed": false
   }
  },
  {
   "cell_type": "code",
   "execution_count": null,
   "outputs": [],
   "source": [],
   "metadata": {
    "collapsed": false,
    "pycharm": {
     "name": "#%%\n"
    }
   }
  }
 ],
 "metadata": {
  "kernelspec": {
   "display_name": "Python 3",
   "language": "python",
   "name": "python3"
  },
  "language_info": {
   "codemirror_mode": {
    "name": "ipython",
    "version": 2
   },
   "file_extension": ".py",
   "mimetype": "text/x-python",
   "name": "python",
   "nbconvert_exporter": "python",
   "pygments_lexer": "ipython2",
   "version": "2.7.6"
  }
 },
 "nbformat": 4,
 "nbformat_minor": 0
}