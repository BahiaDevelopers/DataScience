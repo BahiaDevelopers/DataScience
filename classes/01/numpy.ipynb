{
 "cells": [
  {
   "cell_type": "code",
   "execution_count": 2,
   "metadata": {
    "collapsed": true
   },
   "outputs": [],
   "source": [
    "import pandas as pd\n",
    "import numpy as np"
   ]
  },
  {
   "cell_type": "code",
   "execution_count": 3,
   "outputs": [],
   "source": [
    "df = pd.read_csv('http://www.ppgia.pucpr.br/~jean.barddal/datascience/kobe_shots.csv')"
   ],
   "metadata": {
    "collapsed": false,
    "pycharm": {
     "name": "#%%\n"
    }
   }
  },
  {
   "cell_type": "code",
   "execution_count": 4,
   "outputs": [
    {
     "name": "stdout",
     "output_type": "stream",
     "text": [
      "<class 'pandas.core.frame.DataFrame'>\n",
      "RangeIndex: 30697 entries, 0 to 30696\n",
      "Data columns (total 25 columns):\n",
      " #   Column              Non-Null Count  Dtype  \n",
      "---  ------              --------------  -----  \n",
      " 0   action_type         30697 non-null  object \n",
      " 1   combined_shot_type  30697 non-null  object \n",
      " 2   game_event_id       30697 non-null  int64  \n",
      " 3   game_id             30697 non-null  int64  \n",
      " 4   lat                 30697 non-null  float64\n",
      " 5   loc_x               30697 non-null  int64  \n",
      " 6   loc_y               30697 non-null  int64  \n",
      " 7   lon                 30697 non-null  float64\n",
      " 8   minutes_remaining   30697 non-null  int64  \n",
      " 9   period              30697 non-null  int64  \n",
      " 10  playoffs            30697 non-null  int64  \n",
      " 11  season              30697 non-null  object \n",
      " 12  seconds_remaining   30697 non-null  int64  \n",
      " 13  shot_distance       30697 non-null  int64  \n",
      " 14  shot_made_flag      25697 non-null  float64\n",
      " 15  shot_type           30697 non-null  object \n",
      " 16  shot_zone_area      30697 non-null  object \n",
      " 17  shot_zone_basic     30697 non-null  object \n",
      " 18  shot_zone_range     30697 non-null  object \n",
      " 19  team_id             30697 non-null  int64  \n",
      " 20  team_name           30697 non-null  object \n",
      " 21  game_date           30697 non-null  object \n",
      " 22  matchup             30697 non-null  object \n",
      " 23  opponent            30697 non-null  object \n",
      " 24  shot_id             30697 non-null  int64  \n",
      "dtypes: float64(3), int64(11), object(11)\n",
      "memory usage: 5.9+ MB\n"
     ]
    }
   ],
   "source": [
    "df.info()"
   ],
   "metadata": {
    "collapsed": false,
    "pycharm": {
     "name": "#%%\n"
    }
   }
  },
  {
   "cell_type": "code",
   "execution_count": 5,
   "outputs": [
    {
     "name": "stdout",
     "output_type": "stream",
     "text": [
      "(30697, 25)\n"
     ]
    }
   ],
   "source": [
    "print(df.shape)"
   ],
   "metadata": {
    "collapsed": false,
    "pycharm": {
     "name": "#%%\n"
    }
   }
  },
  {
   "cell_type": "code",
   "execution_count": 6,
   "outputs": [
    {
     "data": {
      "text/plain": "         action_type combined_shot_type  game_event_id   game_id      lat  \\\n0          Jump Shot          Jump Shot             10  20000012  33.9723   \n1          Jump Shot          Jump Shot             12  20000012  34.0443   \n2          Jump Shot          Jump Shot             35  20000012  33.9093   \n3          Jump Shot          Jump Shot             43  20000012  33.8693   \n4  Driving Dunk Shot               Dunk            155  20000012  34.0443   \n\n   loc_x  loc_y       lon  minutes_remaining  period  ...       shot_type  \\\n0    167     72 -118.1028                 10       1  ...  2PT Field Goal   \n1   -157      0 -118.4268                 10       1  ...  2PT Field Goal   \n2   -101    135 -118.3708                  7       1  ...  2PT Field Goal   \n3    138    175 -118.1318                  6       1  ...  2PT Field Goal   \n4      0      0 -118.2698                  6       2  ...  2PT Field Goal   \n\n          shot_zone_area  shot_zone_basic  shot_zone_range     team_id  \\\n0          Right Side(R)        Mid-Range        16-24 ft.  1610612747   \n1           Left Side(L)        Mid-Range         8-16 ft.  1610612747   \n2   Left Side Center(LC)        Mid-Range        16-24 ft.  1610612747   \n3  Right Side Center(RC)        Mid-Range        16-24 ft.  1610612747   \n4              Center(C)  Restricted Area  Less Than 8 ft.  1610612747   \n\n            team_name   game_date    matchup opponent  shot_id  \n0  Los Angeles Lakers  2000-10-31  LAL @ POR      POR        1  \n1  Los Angeles Lakers  2000-10-31  LAL @ POR      POR        2  \n2  Los Angeles Lakers  2000-10-31  LAL @ POR      POR        3  \n3  Los Angeles Lakers  2000-10-31  LAL @ POR      POR        4  \n4  Los Angeles Lakers  2000-10-31  LAL @ POR      POR        5  \n\n[5 rows x 25 columns]",
      "text/html": "<div>\n<style scoped>\n    .dataframe tbody tr th:only-of-type {\n        vertical-align: middle;\n    }\n\n    .dataframe tbody tr th {\n        vertical-align: top;\n    }\n\n    .dataframe thead th {\n        text-align: right;\n    }\n</style>\n<table border=\"1\" class=\"dataframe\">\n  <thead>\n    <tr style=\"text-align: right;\">\n      <th></th>\n      <th>action_type</th>\n      <th>combined_shot_type</th>\n      <th>game_event_id</th>\n      <th>game_id</th>\n      <th>lat</th>\n      <th>loc_x</th>\n      <th>loc_y</th>\n      <th>lon</th>\n      <th>minutes_remaining</th>\n      <th>period</th>\n      <th>...</th>\n      <th>shot_type</th>\n      <th>shot_zone_area</th>\n      <th>shot_zone_basic</th>\n      <th>shot_zone_range</th>\n      <th>team_id</th>\n      <th>team_name</th>\n      <th>game_date</th>\n      <th>matchup</th>\n      <th>opponent</th>\n      <th>shot_id</th>\n    </tr>\n  </thead>\n  <tbody>\n    <tr>\n      <th>0</th>\n      <td>Jump Shot</td>\n      <td>Jump Shot</td>\n      <td>10</td>\n      <td>20000012</td>\n      <td>33.9723</td>\n      <td>167</td>\n      <td>72</td>\n      <td>-118.1028</td>\n      <td>10</td>\n      <td>1</td>\n      <td>...</td>\n      <td>2PT Field Goal</td>\n      <td>Right Side(R)</td>\n      <td>Mid-Range</td>\n      <td>16-24 ft.</td>\n      <td>1610612747</td>\n      <td>Los Angeles Lakers</td>\n      <td>2000-10-31</td>\n      <td>LAL @ POR</td>\n      <td>POR</td>\n      <td>1</td>\n    </tr>\n    <tr>\n      <th>1</th>\n      <td>Jump Shot</td>\n      <td>Jump Shot</td>\n      <td>12</td>\n      <td>20000012</td>\n      <td>34.0443</td>\n      <td>-157</td>\n      <td>0</td>\n      <td>-118.4268</td>\n      <td>10</td>\n      <td>1</td>\n      <td>...</td>\n      <td>2PT Field Goal</td>\n      <td>Left Side(L)</td>\n      <td>Mid-Range</td>\n      <td>8-16 ft.</td>\n      <td>1610612747</td>\n      <td>Los Angeles Lakers</td>\n      <td>2000-10-31</td>\n      <td>LAL @ POR</td>\n      <td>POR</td>\n      <td>2</td>\n    </tr>\n    <tr>\n      <th>2</th>\n      <td>Jump Shot</td>\n      <td>Jump Shot</td>\n      <td>35</td>\n      <td>20000012</td>\n      <td>33.9093</td>\n      <td>-101</td>\n      <td>135</td>\n      <td>-118.3708</td>\n      <td>7</td>\n      <td>1</td>\n      <td>...</td>\n      <td>2PT Field Goal</td>\n      <td>Left Side Center(LC)</td>\n      <td>Mid-Range</td>\n      <td>16-24 ft.</td>\n      <td>1610612747</td>\n      <td>Los Angeles Lakers</td>\n      <td>2000-10-31</td>\n      <td>LAL @ POR</td>\n      <td>POR</td>\n      <td>3</td>\n    </tr>\n    <tr>\n      <th>3</th>\n      <td>Jump Shot</td>\n      <td>Jump Shot</td>\n      <td>43</td>\n      <td>20000012</td>\n      <td>33.8693</td>\n      <td>138</td>\n      <td>175</td>\n      <td>-118.1318</td>\n      <td>6</td>\n      <td>1</td>\n      <td>...</td>\n      <td>2PT Field Goal</td>\n      <td>Right Side Center(RC)</td>\n      <td>Mid-Range</td>\n      <td>16-24 ft.</td>\n      <td>1610612747</td>\n      <td>Los Angeles Lakers</td>\n      <td>2000-10-31</td>\n      <td>LAL @ POR</td>\n      <td>POR</td>\n      <td>4</td>\n    </tr>\n    <tr>\n      <th>4</th>\n      <td>Driving Dunk Shot</td>\n      <td>Dunk</td>\n      <td>155</td>\n      <td>20000012</td>\n      <td>34.0443</td>\n      <td>0</td>\n      <td>0</td>\n      <td>-118.2698</td>\n      <td>6</td>\n      <td>2</td>\n      <td>...</td>\n      <td>2PT Field Goal</td>\n      <td>Center(C)</td>\n      <td>Restricted Area</td>\n      <td>Less Than 8 ft.</td>\n      <td>1610612747</td>\n      <td>Los Angeles Lakers</td>\n      <td>2000-10-31</td>\n      <td>LAL @ POR</td>\n      <td>POR</td>\n      <td>5</td>\n    </tr>\n  </tbody>\n</table>\n<p>5 rows × 25 columns</p>\n</div>"
     },
     "execution_count": 6,
     "metadata": {},
     "output_type": "execute_result"
    }
   ],
   "source": [
    "df.head()"
   ],
   "metadata": {
    "collapsed": false,
    "pycharm": {
     "name": "#%%\n"
    }
   }
  },
  {
   "cell_type": "code",
   "execution_count": 7,
   "outputs": [
    {
     "data": {
      "text/plain": "             action_type combined_shot_type  game_event_id   game_id      lat  \\\n30692          Jump Shot          Jump Shot            397  49900088  33.9963   \n30693           Tip Shot           Tip Shot            398  49900088  34.0443   \n30694  Running Jump Shot          Jump Shot            426  49900088  33.8783   \n30695          Jump Shot          Jump Shot            448  49900088  33.7773   \n30696          Jump Shot          Jump Shot            471  49900088  33.9723   \n\n       loc_x  loc_y       lon  minutes_remaining  period  ...       shot_type  \\\n30692      1     48 -118.2688                  6       4  ...  2PT Field Goal   \n30693      0      0 -118.2698                  6       4  ...  2PT Field Goal   \n30694   -134    166 -118.4038                  3       4  ...  2PT Field Goal   \n30695     31    267 -118.2388                  2       4  ...  3PT Field Goal   \n30696      1     72 -118.2688                  0       4  ...  2PT Field Goal   \n\n             shot_zone_area        shot_zone_basic  shot_zone_range  \\\n30692             Center(C)  In The Paint (Non-RA)  Less Than 8 ft.   \n30693             Center(C)        Restricted Area  Less Than 8 ft.   \n30694  Left Side Center(LC)              Mid-Range        16-24 ft.   \n30695             Center(C)      Above the Break 3          24+ ft.   \n30696             Center(C)  In The Paint (Non-RA)  Less Than 8 ft.   \n\n          team_id           team_name   game_date      matchup opponent  \\\n30692  1610612747  Los Angeles Lakers  2000-06-19  LAL vs. IND      IND   \n30693  1610612747  Los Angeles Lakers  2000-06-19  LAL vs. IND      IND   \n30694  1610612747  Los Angeles Lakers  2000-06-19  LAL vs. IND      IND   \n30695  1610612747  Los Angeles Lakers  2000-06-19  LAL vs. IND      IND   \n30696  1610612747  Los Angeles Lakers  2000-06-19  LAL vs. IND      IND   \n\n       shot_id  \n30692    30693  \n30693    30694  \n30694    30695  \n30695    30696  \n30696    30697  \n\n[5 rows x 25 columns]",
      "text/html": "<div>\n<style scoped>\n    .dataframe tbody tr th:only-of-type {\n        vertical-align: middle;\n    }\n\n    .dataframe tbody tr th {\n        vertical-align: top;\n    }\n\n    .dataframe thead th {\n        text-align: right;\n    }\n</style>\n<table border=\"1\" class=\"dataframe\">\n  <thead>\n    <tr style=\"text-align: right;\">\n      <th></th>\n      <th>action_type</th>\n      <th>combined_shot_type</th>\n      <th>game_event_id</th>\n      <th>game_id</th>\n      <th>lat</th>\n      <th>loc_x</th>\n      <th>loc_y</th>\n      <th>lon</th>\n      <th>minutes_remaining</th>\n      <th>period</th>\n      <th>...</th>\n      <th>shot_type</th>\n      <th>shot_zone_area</th>\n      <th>shot_zone_basic</th>\n      <th>shot_zone_range</th>\n      <th>team_id</th>\n      <th>team_name</th>\n      <th>game_date</th>\n      <th>matchup</th>\n      <th>opponent</th>\n      <th>shot_id</th>\n    </tr>\n  </thead>\n  <tbody>\n    <tr>\n      <th>30692</th>\n      <td>Jump Shot</td>\n      <td>Jump Shot</td>\n      <td>397</td>\n      <td>49900088</td>\n      <td>33.9963</td>\n      <td>1</td>\n      <td>48</td>\n      <td>-118.2688</td>\n      <td>6</td>\n      <td>4</td>\n      <td>...</td>\n      <td>2PT Field Goal</td>\n      <td>Center(C)</td>\n      <td>In The Paint (Non-RA)</td>\n      <td>Less Than 8 ft.</td>\n      <td>1610612747</td>\n      <td>Los Angeles Lakers</td>\n      <td>2000-06-19</td>\n      <td>LAL vs. IND</td>\n      <td>IND</td>\n      <td>30693</td>\n    </tr>\n    <tr>\n      <th>30693</th>\n      <td>Tip Shot</td>\n      <td>Tip Shot</td>\n      <td>398</td>\n      <td>49900088</td>\n      <td>34.0443</td>\n      <td>0</td>\n      <td>0</td>\n      <td>-118.2698</td>\n      <td>6</td>\n      <td>4</td>\n      <td>...</td>\n      <td>2PT Field Goal</td>\n      <td>Center(C)</td>\n      <td>Restricted Area</td>\n      <td>Less Than 8 ft.</td>\n      <td>1610612747</td>\n      <td>Los Angeles Lakers</td>\n      <td>2000-06-19</td>\n      <td>LAL vs. IND</td>\n      <td>IND</td>\n      <td>30694</td>\n    </tr>\n    <tr>\n      <th>30694</th>\n      <td>Running Jump Shot</td>\n      <td>Jump Shot</td>\n      <td>426</td>\n      <td>49900088</td>\n      <td>33.8783</td>\n      <td>-134</td>\n      <td>166</td>\n      <td>-118.4038</td>\n      <td>3</td>\n      <td>4</td>\n      <td>...</td>\n      <td>2PT Field Goal</td>\n      <td>Left Side Center(LC)</td>\n      <td>Mid-Range</td>\n      <td>16-24 ft.</td>\n      <td>1610612747</td>\n      <td>Los Angeles Lakers</td>\n      <td>2000-06-19</td>\n      <td>LAL vs. IND</td>\n      <td>IND</td>\n      <td>30695</td>\n    </tr>\n    <tr>\n      <th>30695</th>\n      <td>Jump Shot</td>\n      <td>Jump Shot</td>\n      <td>448</td>\n      <td>49900088</td>\n      <td>33.7773</td>\n      <td>31</td>\n      <td>267</td>\n      <td>-118.2388</td>\n      <td>2</td>\n      <td>4</td>\n      <td>...</td>\n      <td>3PT Field Goal</td>\n      <td>Center(C)</td>\n      <td>Above the Break 3</td>\n      <td>24+ ft.</td>\n      <td>1610612747</td>\n      <td>Los Angeles Lakers</td>\n      <td>2000-06-19</td>\n      <td>LAL vs. IND</td>\n      <td>IND</td>\n      <td>30696</td>\n    </tr>\n    <tr>\n      <th>30696</th>\n      <td>Jump Shot</td>\n      <td>Jump Shot</td>\n      <td>471</td>\n      <td>49900088</td>\n      <td>33.9723</td>\n      <td>1</td>\n      <td>72</td>\n      <td>-118.2688</td>\n      <td>0</td>\n      <td>4</td>\n      <td>...</td>\n      <td>2PT Field Goal</td>\n      <td>Center(C)</td>\n      <td>In The Paint (Non-RA)</td>\n      <td>Less Than 8 ft.</td>\n      <td>1610612747</td>\n      <td>Los Angeles Lakers</td>\n      <td>2000-06-19</td>\n      <td>LAL vs. IND</td>\n      <td>IND</td>\n      <td>30697</td>\n    </tr>\n  </tbody>\n</table>\n<p>5 rows × 25 columns</p>\n</div>"
     },
     "execution_count": 7,
     "metadata": {},
     "output_type": "execute_result"
    }
   ],
   "source": [
    "df.tail()"
   ],
   "metadata": {
    "collapsed": false,
    "pycharm": {
     "name": "#%%\n"
    }
   }
  },
  {
   "cell_type": "code",
   "execution_count": 8,
   "outputs": [
    {
     "data": {
      "text/plain": "0                Jump Shot\n1                Jump Shot\n2                Jump Shot\n3                Jump Shot\n4        Driving Dunk Shot\n               ...        \n30692            Jump Shot\n30693             Tip Shot\n30694    Running Jump Shot\n30695            Jump Shot\n30696            Jump Shot\nName: action_type, Length: 30697, dtype: object"
     },
     "execution_count": 8,
     "metadata": {},
     "output_type": "execute_result"
    }
   ],
   "source": [
    "df['action_type']"
   ],
   "metadata": {
    "collapsed": false,
    "pycharm": {
     "name": "#%%\n"
    }
   }
  },
  {
   "cell_type": "code",
   "execution_count": 10,
   "outputs": [
    {
     "data": {
      "text/plain": "             action_type  period\n0              Jump Shot       1\n1              Jump Shot       1\n2              Jump Shot       1\n3              Jump Shot       1\n4      Driving Dunk Shot       2\n...                  ...     ...\n30692          Jump Shot       4\n30693           Tip Shot       4\n30694  Running Jump Shot       4\n30695          Jump Shot       4\n30696          Jump Shot       4\n\n[30697 rows x 2 columns]",
      "text/html": "<div>\n<style scoped>\n    .dataframe tbody tr th:only-of-type {\n        vertical-align: middle;\n    }\n\n    .dataframe tbody tr th {\n        vertical-align: top;\n    }\n\n    .dataframe thead th {\n        text-align: right;\n    }\n</style>\n<table border=\"1\" class=\"dataframe\">\n  <thead>\n    <tr style=\"text-align: right;\">\n      <th></th>\n      <th>action_type</th>\n      <th>period</th>\n    </tr>\n  </thead>\n  <tbody>\n    <tr>\n      <th>0</th>\n      <td>Jump Shot</td>\n      <td>1</td>\n    </tr>\n    <tr>\n      <th>1</th>\n      <td>Jump Shot</td>\n      <td>1</td>\n    </tr>\n    <tr>\n      <th>2</th>\n      <td>Jump Shot</td>\n      <td>1</td>\n    </tr>\n    <tr>\n      <th>3</th>\n      <td>Jump Shot</td>\n      <td>1</td>\n    </tr>\n    <tr>\n      <th>4</th>\n      <td>Driving Dunk Shot</td>\n      <td>2</td>\n    </tr>\n    <tr>\n      <th>...</th>\n      <td>...</td>\n      <td>...</td>\n    </tr>\n    <tr>\n      <th>30692</th>\n      <td>Jump Shot</td>\n      <td>4</td>\n    </tr>\n    <tr>\n      <th>30693</th>\n      <td>Tip Shot</td>\n      <td>4</td>\n    </tr>\n    <tr>\n      <th>30694</th>\n      <td>Running Jump Shot</td>\n      <td>4</td>\n    </tr>\n    <tr>\n      <th>30695</th>\n      <td>Jump Shot</td>\n      <td>4</td>\n    </tr>\n    <tr>\n      <th>30696</th>\n      <td>Jump Shot</td>\n      <td>4</td>\n    </tr>\n  </tbody>\n</table>\n<p>30697 rows × 2 columns</p>\n</div>"
     },
     "execution_count": 10,
     "metadata": {},
     "output_type": "execute_result"
    }
   ],
   "source": [
    "df[['action_type', 'period']]"
   ],
   "metadata": {
    "collapsed": false,
    "pycharm": {
     "name": "#%%\n"
    }
   }
  },
  {
   "cell_type": "code",
   "execution_count": 11,
   "outputs": [
    {
     "data": {
      "text/plain": "       game_event_id       game_id           lat         loc_x         loc_y  \\\ncount   30697.000000  3.069700e+04  30697.000000  30697.000000  30697.000000   \nmean      249.190800  2.476407e+07     33.953192      7.110499     91.107535   \nstd       150.003712  7.755175e+06      0.087791    110.124578     87.791361   \nmin         2.000000  2.000001e+07     33.253300   -250.000000    -44.000000   \n25%       110.000000  2.050008e+07     33.884300    -68.000000      4.000000   \n50%       253.000000  2.090035e+07     33.970300      0.000000     74.000000   \n75%       368.000000  2.960047e+07     34.040300     95.000000    160.000000   \nmax       659.000000  4.990009e+07     34.088300    248.000000    791.000000   \n\n                lon  minutes_remaining        period      playoffs  \\\ncount  30697.000000       30697.000000  30697.000000  30697.000000   \nmean    -118.262690           4.885624      2.519432      0.146562   \nstd        0.110125           3.449897      1.153665      0.353674   \nmin     -118.519800           0.000000      1.000000      0.000000   \n25%     -118.337800           2.000000      1.000000      0.000000   \n50%     -118.269800           5.000000      3.000000      0.000000   \n75%     -118.174800           8.000000      3.000000      0.000000   \nmax     -118.021800          11.000000      7.000000      1.000000   \n\n       seconds_remaining  shot_distance  shot_made_flag       team_id  \\\ncount       30697.000000   30697.000000    25697.000000  3.069700e+04   \nmean           28.365085      13.437437        0.446161  1.610613e+09   \nstd            17.478949       9.374189        0.497103  0.000000e+00   \nmin             0.000000       0.000000        0.000000  1.610613e+09   \n25%            13.000000       5.000000        0.000000  1.610613e+09   \n50%            28.000000      15.000000        0.000000  1.610613e+09   \n75%            43.000000      21.000000        1.000000  1.610613e+09   \nmax            59.000000      79.000000        1.000000  1.610613e+09   \n\n            shot_id  \ncount  30697.000000  \nmean   15349.000000  \nstd     8861.604943  \nmin        1.000000  \n25%     7675.000000  \n50%    15349.000000  \n75%    23023.000000  \nmax    30697.000000  ",
      "text/html": "<div>\n<style scoped>\n    .dataframe tbody tr th:only-of-type {\n        vertical-align: middle;\n    }\n\n    .dataframe tbody tr th {\n        vertical-align: top;\n    }\n\n    .dataframe thead th {\n        text-align: right;\n    }\n</style>\n<table border=\"1\" class=\"dataframe\">\n  <thead>\n    <tr style=\"text-align: right;\">\n      <th></th>\n      <th>game_event_id</th>\n      <th>game_id</th>\n      <th>lat</th>\n      <th>loc_x</th>\n      <th>loc_y</th>\n      <th>lon</th>\n      <th>minutes_remaining</th>\n      <th>period</th>\n      <th>playoffs</th>\n      <th>seconds_remaining</th>\n      <th>shot_distance</th>\n      <th>shot_made_flag</th>\n      <th>team_id</th>\n      <th>shot_id</th>\n    </tr>\n  </thead>\n  <tbody>\n    <tr>\n      <th>count</th>\n      <td>30697.000000</td>\n      <td>3.069700e+04</td>\n      <td>30697.000000</td>\n      <td>30697.000000</td>\n      <td>30697.000000</td>\n      <td>30697.000000</td>\n      <td>30697.000000</td>\n      <td>30697.000000</td>\n      <td>30697.000000</td>\n      <td>30697.000000</td>\n      <td>30697.000000</td>\n      <td>25697.000000</td>\n      <td>3.069700e+04</td>\n      <td>30697.000000</td>\n    </tr>\n    <tr>\n      <th>mean</th>\n      <td>249.190800</td>\n      <td>2.476407e+07</td>\n      <td>33.953192</td>\n      <td>7.110499</td>\n      <td>91.107535</td>\n      <td>-118.262690</td>\n      <td>4.885624</td>\n      <td>2.519432</td>\n      <td>0.146562</td>\n      <td>28.365085</td>\n      <td>13.437437</td>\n      <td>0.446161</td>\n      <td>1.610613e+09</td>\n      <td>15349.000000</td>\n    </tr>\n    <tr>\n      <th>std</th>\n      <td>150.003712</td>\n      <td>7.755175e+06</td>\n      <td>0.087791</td>\n      <td>110.124578</td>\n      <td>87.791361</td>\n      <td>0.110125</td>\n      <td>3.449897</td>\n      <td>1.153665</td>\n      <td>0.353674</td>\n      <td>17.478949</td>\n      <td>9.374189</td>\n      <td>0.497103</td>\n      <td>0.000000e+00</td>\n      <td>8861.604943</td>\n    </tr>\n    <tr>\n      <th>min</th>\n      <td>2.000000</td>\n      <td>2.000001e+07</td>\n      <td>33.253300</td>\n      <td>-250.000000</td>\n      <td>-44.000000</td>\n      <td>-118.519800</td>\n      <td>0.000000</td>\n      <td>1.000000</td>\n      <td>0.000000</td>\n      <td>0.000000</td>\n      <td>0.000000</td>\n      <td>0.000000</td>\n      <td>1.610613e+09</td>\n      <td>1.000000</td>\n    </tr>\n    <tr>\n      <th>25%</th>\n      <td>110.000000</td>\n      <td>2.050008e+07</td>\n      <td>33.884300</td>\n      <td>-68.000000</td>\n      <td>4.000000</td>\n      <td>-118.337800</td>\n      <td>2.000000</td>\n      <td>1.000000</td>\n      <td>0.000000</td>\n      <td>13.000000</td>\n      <td>5.000000</td>\n      <td>0.000000</td>\n      <td>1.610613e+09</td>\n      <td>7675.000000</td>\n    </tr>\n    <tr>\n      <th>50%</th>\n      <td>253.000000</td>\n      <td>2.090035e+07</td>\n      <td>33.970300</td>\n      <td>0.000000</td>\n      <td>74.000000</td>\n      <td>-118.269800</td>\n      <td>5.000000</td>\n      <td>3.000000</td>\n      <td>0.000000</td>\n      <td>28.000000</td>\n      <td>15.000000</td>\n      <td>0.000000</td>\n      <td>1.610613e+09</td>\n      <td>15349.000000</td>\n    </tr>\n    <tr>\n      <th>75%</th>\n      <td>368.000000</td>\n      <td>2.960047e+07</td>\n      <td>34.040300</td>\n      <td>95.000000</td>\n      <td>160.000000</td>\n      <td>-118.174800</td>\n      <td>8.000000</td>\n      <td>3.000000</td>\n      <td>0.000000</td>\n      <td>43.000000</td>\n      <td>21.000000</td>\n      <td>1.000000</td>\n      <td>1.610613e+09</td>\n      <td>23023.000000</td>\n    </tr>\n    <tr>\n      <th>max</th>\n      <td>659.000000</td>\n      <td>4.990009e+07</td>\n      <td>34.088300</td>\n      <td>248.000000</td>\n      <td>791.000000</td>\n      <td>-118.021800</td>\n      <td>11.000000</td>\n      <td>7.000000</td>\n      <td>1.000000</td>\n      <td>59.000000</td>\n      <td>79.000000</td>\n      <td>1.000000</td>\n      <td>1.610613e+09</td>\n      <td>30697.000000</td>\n    </tr>\n  </tbody>\n</table>\n</div>"
     },
     "execution_count": 11,
     "metadata": {},
     "output_type": "execute_result"
    }
   ],
   "source": [
    "df.describe()"
   ],
   "metadata": {
    "collapsed": false,
    "pycharm": {
     "name": "#%%\n"
    }
   }
  },
  {
   "cell_type": "code",
   "execution_count": null,
   "outputs": [],
   "source": [
    "# Slicing\n",
    "df[10:20]"
   ],
   "metadata": {
    "collapsed": false,
    "pycharm": {
     "name": "#%%\n"
    }
   }
  },
  {
   "cell_type": "code",
   "execution_count": null,
   "outputs": [],
   "source": [
    "df.loc[0]"
   ],
   "metadata": {
    "collapsed": false,
    "pycharm": {
     "name": "#%%\n"
    }
   }
  },
  {
   "cell_type": "code",
   "execution_count": null,
   "outputs": [],
   "source": [
    "df.iloc[0]"
   ],
   "metadata": {
    "collapsed": false,
    "pycharm": {
     "name": "#%%\n"
    }
   }
  },
  {
   "cell_type": "code",
   "execution_count": null,
   "outputs": [],
   "source": [
    "df_sem_zero=df.drop(0, axis=0, inplace=True)"
   ],
   "metadata": {
    "collapsed": false,
    "pycharm": {
     "name": "#%%\n"
    }
   }
  },
  {
   "cell_type": "code",
   "execution_count": null,
   "outputs": [],
   "source": [
    "df['shot_type'].unique()"
   ],
   "metadata": {
    "collapsed": false,
    "pycharm": {
     "name": "#%%\n"
    }
   }
  },
  {
   "cell_type": "code",
   "execution_count": null,
   "outputs": [],
   "source": [
    "df['shot_type'].nunique()"
   ],
   "metadata": {
    "collapsed": false,
    "pycharm": {
     "name": "#%%\n"
    }
   }
  },
  {
   "cell_type": "code",
   "execution_count": null,
   "outputs": [],
   "source": [
    "df['shot_type'].value_counts()"
   ],
   "metadata": {
    "collapsed": false,
    "pycharm": {
     "name": "#%%\n"
    }
   }
  },
  {
   "cell_type": "code",
   "execution_count": null,
   "outputs": [],
   "source": [
    "df.groupby('shot_type').count()"
   ],
   "metadata": {
    "collapsed": false,
    "pycharm": {
     "name": "#%%\n"
    }
   }
  }
 ],
 "metadata": {
  "kernelspec": {
   "display_name": "Python 3",
   "language": "python",
   "name": "python3"
  },
  "language_info": {
   "codemirror_mode": {
    "name": "ipython",
    "version": 2
   },
   "file_extension": ".py",
   "mimetype": "text/x-python",
   "name": "python",
   "nbconvert_exporter": "python",
   "pygments_lexer": "ipython2",
   "version": "2.7.6"
  }
 },
 "nbformat": 4,
 "nbformat_minor": 0
}